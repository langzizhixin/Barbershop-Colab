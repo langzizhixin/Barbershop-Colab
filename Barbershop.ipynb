{
  "nbformat": 4,
  "nbformat_minor": 0,
  "metadata": {
    "colab": {
      "private_outputs": true,
      "provenance": [],
      "collapsed_sections": []
    },
    "kernelspec": {
      "name": "python3",
      "display_name": "Python 3"
    },
    "language_info": {
      "name": "python"
    },
    "accelerator": "GPU"
  },
  "cells": [
    {
      "cell_type": "markdown",
      "source": [
        "## 一、检查GPU"
      ],
      "metadata": {
        "id": "-OrHxKsBACUM"
      }
    },
    {
      "cell_type": "code",
      "source": [
        "!/opt/bin/nvidia-smi"
      ],
      "metadata": {
        "id": "oh_AJLsE__r6"
      },
      "execution_count": null,
      "outputs": []
    },
    {
      "cell_type": "markdown",
      "source": [
        "## 二、下载源码"
      ],
      "metadata": {
        "id": "1GzKw_yyAJ8d"
      }
    },
    {
      "cell_type": "code",
      "execution_count": null,
      "metadata": {
        "id": "cQfGTfIQ9dnk"
      },
      "outputs": [],
      "source": [
        "!git clone https://github.com/ZPdesu/Barbershop.git"
      ]
    },
    {
      "cell_type": "markdown",
      "source": [
        "## 三、进入根目录"
      ],
      "metadata": {
        "id": "8z0dM9xAAROc"
      }
    },
    {
      "cell_type": "code",
      "source": [
        "%cd Barbershop"
      ],
      "metadata": {
        "id": "eVFW10Es9n4G"
      },
      "execution_count": null,
      "outputs": []
    },
    {
      "cell_type": "code",
      "source": [
        "!ls"
      ],
      "metadata": {
        "id": "idpxg8L3-lKm"
      },
      "execution_count": null,
      "outputs": []
    },
    {
      "cell_type": "markdown",
      "source": [
        "## 四、安装依赖。\n",
        "# 源码中是用yaml直接创建环境，environment/environment.yaml ，这里我们需要将environment.yaml文件中需要pip的包复制出来，粘贴进新建的一个requirements.txt中，这里我已经在本地电脑建好，直接上传到Barbershop根目录。"
      ],
      "metadata": {
        "id": "blJ35-CA_SRY"
      }
    },
    {
      "cell_type": "code",
      "source": [
        "# 上传requirements.txt到Barbershop根目录"
      ],
      "metadata": {
        "id": "0rHu64IzCjWX"
      },
      "execution_count": null,
      "outputs": []
    },
    {
      "cell_type": "code",
      "source": [
        "#安装 需要10分钟左右\n",
        "!pip install -r requirements.txt"
      ],
      "metadata": {
        "id": "qM9W6eDN9wUx"
      },
      "execution_count": null,
      "outputs": []
    },
    {
      "cell_type": "code",
      "source": [
        "# 如果你想要更多的发型，还可以下载II2S中的头像图片，然后将图片放在input/face这个文件夹下面，后面推理时可以任意选择参照发型。\n",
        "# !git clone https://drive.google.com/drive/folders/15jsR9yy_pfDHiS9aE3HcYDgwtBbAneId\n",
        "# put image in the  \"input/face\" folder.\n",
        "# 需要 %cd 进行目录切换。\n",
        "# 当然你也可以直接电脑上下载好上传进去。"
      ],
      "metadata": {
        "id": "howPnrb6DdL1"
      },
      "execution_count": null,
      "outputs": []
    },
    {
      "cell_type": "markdown",
      "source": [
        "## 五、人脸预处理"
      ],
      "metadata": {
        "id": "nyJEewNqBDIl"
      }
    },
    {
      "cell_type": "code",
      "source": [
        "!python align_face.py"
      ],
      "metadata": {
        "id": "i8h4uZj_-Z-0"
      },
      "execution_count": null,
      "outputs": []
    },
    {
      "cell_type": "markdown",
      "source": [
        "## 六、进行推理"
      ],
      "metadata": {
        "id": "Lr2uD23MBMIL"
      }
    },
    {
      "cell_type": "code",
      "source": [
        "# 运行可能提示ffhq.pt缺失，可以下载下来放到pretrained_models中即可\n",
        "# !git https://drive.google.com/uc?id=1AT6bNR2ppK8f2ETL_evT27f3R_oyWNHS "
      ],
      "metadata": {
        "id": "QxAySlE2GfV1"
      },
      "execution_count": null,
      "outputs": []
    },
    {
      "cell_type": "code",
      "source": [
        "# Produce realistic results: （有点耗时GPU跑10-20分钟）\n",
        "!python main.py --im_path1 90.png --im_path2 15.png --im_path3 117.png --sign realistic --smooth 5"
      ],
      "metadata": {
        "id": "mmxTa5qsBLXL"
      },
      "execution_count": null,
      "outputs": []
    },
    {
      "cell_type": "code",
      "source": [
        "# Produce results faithful to the masks:\n",
        "!python main.py --im_path1 90.png --im_path2 15.png --im_path3 117.png --sign fidelity --smooth 5"
      ],
      "metadata": {
        "id": "fQaoR39eB--s"
      },
      "execution_count": null,
      "outputs": []
    }
  ]
}
